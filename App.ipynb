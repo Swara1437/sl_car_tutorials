{
  "nbformat": 4,
  "nbformat_minor": 0,
  "metadata": {
    "colab": {
      "provenance": []
    },
    "kernelspec": {
      "name": "python3",
      "display_name": "Python 3"
    },
    "language_info": {
      "name": "python"
    }
  },
  "cells": [
    {
      "cell_type": "code",
      "source": [
        "# prompt: app make\n",
        "\n",
        "import streamlit as st\n",
        "import pandas as pd\n",
        "from sklearn.ensemble import RandomForestClassifier\n",
        "from sklearn.model_selection import train_test_split\n",
        "from sklearn.metrics import accuracy_score\n",
        "import gradio as gr\n",
        "from sklearn.linear_model import LinearRegression\n",
        "from sklearn.preprocessing import LabelEncoder\n",
        "from sklearn.metrics import r2_score\n",
        "\n",
        "# App Title\n",
        "st.title(\"🚗 Car Evaluation Classifier using Random Forest 🚗\")\n",
        "st.write(\"Predict the car condition using Machine Learning based on various features.\")\n",
        "\n",
        "# Load the 'car.csv' dataset\n",
        "try:\n",
        "    df = pd.read_csv('/content/car.csv')  # Assuming car.csv is in the Colab environment\n",
        "except FileNotFoundError:\n",
        "    st.error(\"Error: 'car.csv' file not found. Please upload the file.\")\n",
        "    st.stop()\n",
        "\n",
        "# Encoding categorical columns\n",
        "df_encoded = df.apply(lambda col: pd.factorize(col)[0])\n",
        "\n",
        "# Splitting data\n",
        "X = df_encoded.iloc[:, :-1]\n",
        "y = df_encoded.iloc[:, -1]\n",
        "X_train, X_test, y_train, y_test = train_test_split(X, y, test_size=0.2, random_state=42)\n",
        "\n",
        "# Model\n",
        "model = RandomForestClassifier()\n",
        "model.fit(X_train, y_train)\n",
        "\n",
        "# Accuracy\n",
        "accuracy = model.score(X_test, y_test)\n",
        "st.success(f\"🎯 Model Accuracy: {accuracy * 100:.2f}%\")\n",
        "\n",
        "st.subheader(\"🧪 Predict Car Condition\")\n",
        "\n",
        "# Get unique values for each feature\n",
        "feature_options = {column: df[column].unique() for column in df.columns[:-1]}\n",
        "\n",
        "# Create input sliders/selectors\n",
        "input_data = []\n",
        "for column in df.columns[:-1]:\n",
        "    if pd.api.types.is_numeric_dtype(df[column]):\n",
        "        if column == 'Unnamed: 0':\n",
        "            value = st.selectbox(f\"{column}\", feature_options[column])\n",
        "        else:\n",
        "            min_val = float(df[column].min())\n",
        "            max_val = float(df[column].max())\n",
        "            mean_val = float(df[column].mean())\n",
        "            value = st.slider(f\"{column}\", min_val, max_val, mean_val)\n",
        "    else:\n",
        "        value = st.selectbox(f\"{column}\", feature_options[column])\n",
        "    input_data.append(value)\n",
        "\n",
        "# Convert input to encoded form\n",
        "input_encoded = [pd.Series(df[column].unique()).tolist().index(val) for column, val in zip(df.columns[:-1], input_data)]\n",
        "\n",
        "# Predict\n",
        "prediction = model.predict([input_encoded])[0]\n",
        "\n",
        "# Decode prediction\n",
        "decoded_label = pd.Series(df[df.columns[-1]].unique())[prediction]\n",
        "st.write(f\"### Predicted Car Condition: *{decoded_label}*\")\n",
        "\n",
        "st.write(\"#### About the App:\")\n",
        "st.write(\"This app uses a Random Forest Classifier trained on the car dataset to predict the condition of a car based on its features.\")\n",
        "st.write(\"Made by SWATI 😀\")\n",
        "\n"
      ],
      "metadata": {
        "id": "GlrP8-W7KBLb"
      },
      "execution_count": null,
      "outputs": []
    },
    {
      "cell_type": "code",
      "source": [],
      "metadata": {
        "id": "qAc19CYEKBIH"
      },
      "execution_count": null,
      "outputs": []
    }
  ]
}